{
 "cells": [
  {
   "cell_type": "code",
   "execution_count": null,
   "metadata": {
    "collapsed": true
   },
   "outputs": [],
   "source": [
    "# Tesseract Using Linux"
   ]
  },
  {
   "cell_type": "code",
   "execution_count": null,
   "metadata": {
    "collapsed": true
   },
   "outputs": [],
   "source": [
    "'''\n",
    "OCR               Optical Character Recognition\n",
    "'''"
   ]
  },
  {
   "cell_type": "code",
   "execution_count": null,
   "metadata": {
    "collapsed": true
   },
   "outputs": [],
   "source": [
    "'''Documentation\n",
    "\n",
    "Github            https://github.com/tesseract-ocr/\n",
    "'''"
   ]
  },
  {
   "cell_type": "code",
   "execution_count": null,
   "metadata": {
    "collapsed": true
   },
   "outputs": [],
   "source": [
    "'''Installations\n",
    "\n",
    "tesseract-ocr\n",
    "imagemagick\n",
    "\n",
    "'''"
   ]
  },
  {
   "cell_type": "code",
   "execution_count": null,
   "metadata": {
    "collapsed": true
   },
   "outputs": [],
   "source": [
    "'''Commands \n",
    "\n",
    "tesseract -h      Help menu\n",
    "convert           Command to convert a document to an image.  The better quality of the image the better results. \n",
    "                  convert -density 300 test.pdf -depth 8 -strip background white -alpha out.tiff\n",
    "                  -densiety: quality of image\n",
    "                  test.pdf:  target to be converted\n",
    "                  -depth:    unknown\n",
    "                  -strip:    stripping background and making it white\n",
    "                  -alpha:    unknown\n",
    "                  out.tiff:  output as a tiff file. \n",
    "\n",
    "tesseract out.tiff eng\n",
    "                  convert image to text using the English language. \n",
    "\n",
    "'''"
   ]
  },
  {
   "cell_type": "code",
   "execution_count": null,
   "metadata": {
    "collapsed": true
   },
   "outputs": [],
   "source": []
  }
 ],
 "metadata": {
  "kernelspec": {
   "display_name": "Python 3",
   "language": "python",
   "name": "python3"
  },
  "language_info": {
   "codemirror_mode": {
    "name": "ipython",
    "version": 3
   },
   "file_extension": ".py",
   "mimetype": "text/x-python",
   "name": "python",
   "nbconvert_exporter": "python",
   "pygments_lexer": "ipython3",
   "version": "3.6.1"
  }
 },
 "nbformat": 4,
 "nbformat_minor": 2
}
