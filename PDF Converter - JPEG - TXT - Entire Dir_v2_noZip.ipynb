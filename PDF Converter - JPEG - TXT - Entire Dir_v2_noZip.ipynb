{
 "cells": [
  {
   "cell_type": "code",
   "execution_count": 55,
   "metadata": {
    "collapsed": true
   },
   "outputs": [],
   "source": [
    "# Part I:  Set Current and Target Directory\n",
    "\n",
    "import os\n",
    "\n",
    "os.chdir('/Volumes/insight/Legal Analytics Sprint-S18/Team Folders/Team Wang/Chris')\n",
    "Target_dir = os.getcwd()\n",
    "Dir_list = os.listdir()\n"
   ]
  },
  {
   "cell_type": "code",
   "execution_count": null,
   "metadata": {
    "collapsed": true
   },
   "outputs": [],
   "source": []
  },
  {
   "cell_type": "code",
   "execution_count": 56,
   "metadata": {
    "collapsed": true
   },
   "outputs": [],
   "source": [
    "# Part II:  Traverse Target Dir and Identify Pdf docs\n",
    "\n",
    "def get_list_pdf_Files(Target_dir, Dir_list):\n",
    "    '''The purpose of this function is to change to the correct working director & obtain list of pdf files\n",
    "    a.) Change the directory to the target directory where the files are located. \n",
    "    b.) Obtain list of pdf files\n",
    "    c.) Return list of pdf files in the directory. \n",
    "    '''    \n",
    "    import os\n",
    "    \n",
    "    os.chdir(Target_dir)\n",
    "    File_list = [x for x in Dir_list if '.pdf' in x]\n",
    "    \n",
    "    return File_list\n"
   ]
  },
  {
   "cell_type": "code",
   "execution_count": null,
   "metadata": {
    "collapsed": true
   },
   "outputs": [],
   "source": []
  },
  {
   "cell_type": "code",
   "execution_count": 57,
   "metadata": {
    "collapsed": true
   },
   "outputs": [],
   "source": [
    "# Part III:  Convert Pdf files to PNG Images\n",
    "\n",
    "def convert_pdf_to_png(Pdf_File):\n",
    "    '''The purpose of this function is to convert each page of a pdf to a png file. \n",
    "    a.) Pass pdf file to Image.  After testing tesseract output, tesolution has been modified to 400 pixels.    \n",
    "    b.) Return None as the function will create the jpeg files in the target directory. \n",
    "    '''\n",
    "    from wand.image import Image\n",
    "    from wand.color import Color\n",
    "    \n",
    "    with Image(filename = Pdf_File, resolution = 400) as img:\n",
    "        with img.convert('png') as converted:\n",
    "            converted.save(filename = 'converted.png')\n",
    "    \n",
    "    return None\n",
    "        "
   ]
  },
  {
   "cell_type": "code",
   "execution_count": null,
   "metadata": {
    "collapsed": true
   },
   "outputs": [],
   "source": []
  },
  {
   "cell_type": "code",
   "execution_count": 58,
   "metadata": {
    "collapsed": true
   },
   "outputs": [],
   "source": [
    "# Part IV: Convert PNG Images to Single Text Doc  \n",
    "\n",
    "def create_textFile_from_images(Pdf):\n",
    "    '''The purpose of this function is to convert each png file to text and concatenate them into a single doc.  \n",
    "    a.) Define the list of files in dir\n",
    "    b.) Create the txt file to write to\n",
    "    c.) Convert each PNG file to a string using pytesseract\n",
    "    e.) Concatenate text files. \n",
    "    f.) Return None as this function writes the output directly to the target directory. \n",
    "    Note:  If write text gen a unicode error we'll need to set pytesseract config to only recognize string characters.\n",
    "    config= \"-c tessedit_char_whitelist=0123456789abcdefghijklmnopqrstuvwxyzABCDEFGHIJKLMNOPQRSTUVWXYZ!#$%&*+,-.:;~`_=^<>?@(){}[]|/\\\\\\\"\\'' -psm 6\")\n",
    "    '''   \n",
    "    import PIL\n",
    "    import pytesseract\n",
    "    import os\n",
    "    \n",
    "    Dir_list = os.listdir()\n",
    "      \n",
    "    New_File = open(Pdf + '.txt','w')  \n",
    "\n",
    "    for file in Dir_list:\n",
    "        if 'converted' in file:      \n",
    "            im = PIL.Image.open(file)\n",
    "            Text = pytesseract.image_to_string(im)           \n",
    "            New_File.write(Text)\n",
    "\n",
    "    return None\n",
    "\n"
   ]
  },
  {
   "cell_type": "code",
   "execution_count": null,
   "metadata": {
    "collapsed": true
   },
   "outputs": [],
   "source": []
  },
  {
   "cell_type": "code",
   "execution_count": 59,
   "metadata": {
    "collapsed": true
   },
   "outputs": [],
   "source": [
    "# Part V: Clean up dir\n",
    "\n",
    "def cleanUpDir_remove_png():\n",
    "    '''The purpose of this function is to remove the jpeg and zip files creates as part of the former functions\n",
    "    a.) Traverse the directory where the jpeg and zip files were created\n",
    "    b.) Remove any files ending in .jpeg and .zip\n",
    "    c.) Return None as there is no output to this function. \n",
    "    '''\n",
    "    import os\n",
    "    \n",
    "    Dir_list = os.listdir()  # Needs to be called a second time after the files have been created. \n",
    "    \n",
    "    for File in Dir_list:\n",
    "        if '.png' in File:\n",
    "            os.remove(File)\n",
    "    \n",
    "    return None"
   ]
  },
  {
   "cell_type": "code",
   "execution_count": null,
   "metadata": {
    "collapsed": true
   },
   "outputs": [],
   "source": []
  },
  {
   "cell_type": "code",
   "execution_count": 60,
   "metadata": {
    "collapsed": true
   },
   "outputs": [],
   "source": [
    "# Part VI:  Loop over directory & Run Pipeline of Functions"
   ]
  },
  {
   "cell_type": "code",
   "execution_count": null,
   "metadata": {
    "collapsed": true
   },
   "outputs": [],
   "source": []
  },
  {
   "cell_type": "code",
   "execution_count": 61,
   "metadata": {
    "collapsed": true
   },
   "outputs": [],
   "source": [
    "# Run Pipeline"
   ]
  },
  {
   "cell_type": "code",
   "execution_count": 62,
   "metadata": {
    "collapsed": true
   },
   "outputs": [],
   "source": [
    "directory_pdf_file_conversion_2text_pipeline(Target_dir)"
   ]
  },
  {
   "cell_type": "code",
   "execution_count": null,
   "metadata": {
    "collapsed": true
   },
   "outputs": [],
   "source": []
  },
  {
   "cell_type": "code",
   "execution_count": null,
   "metadata": {
    "collapsed": true
   },
   "outputs": [],
   "source": []
  },
  {
   "cell_type": "code",
   "execution_count": null,
   "metadata": {
    "collapsed": true
   },
   "outputs": [],
   "source": []
  },
  {
   "cell_type": "code",
   "execution_count": null,
   "metadata": {
    "collapsed": true
   },
   "outputs": [],
   "source": []
  },
  {
   "cell_type": "code",
   "execution_count": null,
   "metadata": {
    "collapsed": true
   },
   "outputs": [],
   "source": []
  },
  {
   "cell_type": "code",
   "execution_count": null,
   "metadata": {
    "collapsed": true
   },
   "outputs": [],
   "source": []
  }
 ],
 "metadata": {
  "kernelspec": {
   "display_name": "Python 3",
   "language": "python",
   "name": "python3"
  },
  "language_info": {
   "codemirror_mode": {
    "name": "ipython",
    "version": 3
   },
   "file_extension": ".py",
   "mimetype": "text/x-python",
   "name": "python",
   "nbconvert_exporter": "python",
   "pygments_lexer": "ipython3",
   "version": "3.6.1"
  }
 },
 "nbformat": 4,
 "nbformat_minor": 2
}
